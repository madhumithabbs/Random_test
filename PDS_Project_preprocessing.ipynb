{
 "cells": [
  {
   "cell_type": "code",
   "execution_count": 47,
   "metadata": {
    "collapsed": true
   },
   "outputs": [],
   "source": [
    "import pandas as pd\n",
    "import spotipy\n",
    "import numpy as np\n",
    "from sklearn.preprocessing import StandardScaler\n",
    "from matplotlib import*\n",
    "import matplotlib.pyplot as plt\n",
    "from matplotlib.cm import register_cmap\n",
    "from scipy import stats\n",
    "from sklearn.decomposition import PCA as sklearnPCA\n",
    "from sklearn.model_selection import GridSearchCV\n",
    "import collections\n",
    "import numpy as np; np.random.seed(0)\n",
    "import seaborn as sns; sns.set()\n",
    "from scipy.stats import mode\n",
    "import math\n",
    "\n",
    "from sklearn.metrics import confusion_matrix"
   ]
  },
  {
   "cell_type": "code",
   "execution_count": 117,
   "metadata": {},
   "outputs": [
    {
     "name": "stdout",
     "output_type": "stream",
     "text": [
      "No of tracks extracted: 40572\n"
     ]
    }
   ],
   "source": [
    "\n",
    "\n",
    "df_train = pd.read_csv('full_drop-2.csv',encoding='ISO-8859-1')\n",
    "\n",
    "df_train.head()\n",
    "print(\"No of tracks extracted:\",len(df_train))"
   ]
  },
  {
   "cell_type": "code",
   "execution_count": 69,
   "metadata": {},
   "outputs": [
    {
     "name": "stdout",
     "output_type": "stream",
     "text": [
      "Index(['track', 'artist', 'genre', 'Spotify ID', 'acousticness',\n",
      "       'danceability', 'duration_ms', 'energy', 'instrumentalness', 'keytrack',\n",
      "       'liveness', 'loudnesstrack', 'modetrack', 'speechiness', 'tempotrack',\n",
      "       'time_signaturetrack', 'valence', 'avg_timbre1', 'avg_timbre2',\n",
      "       'avg_timbre3', 'avg_timbre4', 'avg_timbre5', 'avg_timbre6',\n",
      "       'avg_timbre7', 'avg_timbre8', 'avg_timbre9', 'avg_timbre10',\n",
      "       'avg_timbre11', 'avg_timbre12', 'var_timbre1', 'var_timbre2',\n",
      "       'var_timbre3', 'var_timbre4', 'var_timbre5', 'var_timbre6',\n",
      "       'var_timbre7', 'var_timbre8', 'var_timbre9', 'var_timbre10',\n",
      "       'var_timbre11', 'var_timbre12', 'Unnamed: 42'],\n",
      "      dtype='object')\n"
     ]
    }
   ],
   "source": [
    "\n",
    "df_train.drop('MSD_track_id',axis=1, inplace=True)\n",
    "print(df_train.columns)"
   ]
  },
  {
   "cell_type": "code",
   "execution_count": 70,
   "metadata": {},
   "outputs": [
    {
     "data": {
      "text/plain": [
       "array(['classic pop and rock', 'punk', 'folk', 'metal', 'jazz and blues',\n",
       "       'classical'], dtype=object)"
      ]
     },
     "execution_count": 70,
     "metadata": {},
     "output_type": "execute_result"
    }
   ],
   "source": [
    "df_train.genre.unique()"
   ]
  },
  {
   "cell_type": "code",
   "execution_count": 94,
   "metadata": {
    "collapsed": true
   },
   "outputs": [],
   "source": [
    "df_rock=df_train[df_train.genre==\"classic pop and rock\"]\n",
    "df_rock = df_rock.sample(frac=1).reset_index(drop=True)\n",
    "df_rock=df_rock[:10000]\n",
    "\n",
    "df_train = df_train[df_train.genre!=\"classic pop and rock\"]\n",
    "# df_folk=df_train[df_train.genre==\"folk\"]\n",
    "\n",
    "# df_folk = df_folk.sample(frac=1).reset_index(drop=True)\n",
    "# df_folk=df_folk[:3700]\n",
    "\n",
    "# df_punk=df_train[df_train.genre==\"punk\"]\n",
    "# df_punk = df_punk.sample(frac=1).reset_index(drop=True)\n",
    "# df_punk=df_punk[:3700]\n",
    "\n"
   ]
  },
  {
   "cell_type": "code",
   "execution_count": 95,
   "metadata": {
    "collapsed": true
   },
   "outputs": [],
   "source": [
    "df_train=pd.concat([df_rock, df_train], ignore_index=True)"
   ]
  },
  {
   "cell_type": "code",
   "execution_count": 96,
   "metadata": {},
   "outputs": [
    {
     "data": {
      "text/plain": [
       "26677"
      ]
     },
     "execution_count": 96,
     "metadata": {},
     "output_type": "execute_result"
    }
   ],
   "source": [
    "len(df_train)"
   ]
  },
  {
   "cell_type": "markdown",
   "metadata": {},
   "source": [
    "The initial process subsets only the features that are necessary for classifying the genre of the track.Here we observe that we use only the spotify features/audio tags and timbral features extracted from MSD.\n",
    "\n",
    "features_x df contains all the features that is used for classification of genre"
   ]
  },
  {
   "cell_type": "code",
   "execution_count": 97,
   "metadata": {},
   "outputs": [
    {
     "name": "stdout",
     "output_type": "stream",
     "text": [
      "   acousticness  danceability  duration_ms  energy  instrumentalness  \\\n",
      "0       0.01890         0.773       278547   0.740           0.00007   \n",
      "1       0.66600         0.502       227267   0.279           0.00000   \n",
      "2       0.14900         0.593       265707   0.548           0.00002   \n",
      "3       0.00758         0.552       160000   0.824           0.31800   \n",
      "4       0.01130         0.143       197379   0.968           0.62600   \n",
      "\n",
      "   keytrack  liveness  loudnesstrack  modetrack  speechiness      ...       \\\n",
      "0         2    0.0598         -4.426          1       0.0371      ...        \n",
      "1         5    0.1210        -13.301          1       0.0269      ...        \n",
      "2         5    0.1840        -11.977          1       0.0400      ...        \n",
      "3        10    0.3870         -9.279          0       0.0486      ...        \n",
      "4         8    0.5610         -1.851          1       0.1550      ...        \n",
      "\n",
      "   var_timbre3  var_timbre4  var_timbre5  var_timbre6  var_timbre7  \\\n",
      "0   612.386584   641.975068   397.776953   322.137918   297.669364   \n",
      "1  1178.883770  1352.829579   955.328735   708.726220   510.902865   \n",
      "2  2003.598437   669.602048  1015.531867   437.163961   723.062090   \n",
      "3  1074.027722   678.994337   951.538014   622.533210   430.243651   \n",
      "4  2037.117233  2082.462002  1187.867212  1584.029854   470.006292   \n",
      "\n",
      "   var_timbre8  var_timbre9  var_timbre10  var_timbre11  var_timbre12  \n",
      "0   217.642427   161.102604    132.139685    119.830329    174.728687  \n",
      "1   547.667138   460.783756    337.195753    312.489242    269.469036  \n",
      "2   238.271239   854.582188    192.165634    158.357192    420.192377  \n",
      "3   252.534900   224.124129    218.196721    270.184306    206.797412  \n",
      "4   444.592063   318.561564    382.664214    442.253492    350.678063  \n",
      "\n",
      "[5 rows x 37 columns]\n"
     ]
    }
   ],
   "source": [
    "#Subsetting only the required audio features\n",
    "features_x=df_train.loc[:, 'acousticness':'var_timbre12']\n",
    "print(features_x.head())"
   ]
  },
  {
   "cell_type": "markdown",
   "metadata": {},
   "source": [
    "features_y contains the output/labels variable that contains the genre information"
   ]
  },
  {
   "cell_type": "code",
   "execution_count": 98,
   "metadata": {},
   "outputs": [
    {
     "name": "stdout",
     "output_type": "stream",
     "text": [
      "0    classic pop and rock\n",
      "1    classic pop and rock\n",
      "2    classic pop and rock\n",
      "3    classic pop and rock\n",
      "4    classic pop and rock\n",
      "Name: genre, dtype: object\n"
     ]
    }
   ],
   "source": [
    "features_y=df_train.loc[:,'genre']\n",
    "print(features_y.head())"
   ]
  },
  {
   "cell_type": "code",
   "execution_count": 99,
   "metadata": {},
   "outputs": [
    {
     "data": {
      "image/png": "[encoded data removed]",
      "text/plain": [
       "<matplotlib.figure.Figure at 0x1a274f09e8>"
      ]
     },
     "metadata": {},
     "output_type": "display_data"
    }
   ],
   "source": [
    "\n",
    "\n",
    "plt.figure(2)\n",
    "features_y.value_counts().plot(kind='bar', color='green')\n",
    "plt.title('Distribution of songs across top 8 genres')\n",
    "plt.xlabel('Genres')\n",
    "plt.ylabel('Number of songs')\n",
    "plt.show()"
   ]
  },
  {
   "cell_type": "markdown",
   "metadata": {},
   "source": [
    "As we observe the data, there is inherent imbalance in music retrieval datasets. This is because; in general, there are some genres of higher popularity and hence have higher number of songs composed. In this project, we will not be focussing on treating this imbalance because that will skew the nature of music dataset and resulting classification algorithm may not work on other generic datsets."
   ]
  },
  {
   "cell_type": "markdown",
   "metadata": {},
   "source": [
    "Label Encoder ensures that it gives numerical values to each of the genres so that it can be used as an input to various classifiers."
   ]
  },
  {
   "cell_type": "code",
   "execution_count": 100,
   "metadata": {},
   "outputs": [
    {
     "data": {
      "text/plain": [
       "False"
      ]
     },
     "execution_count": 100,
     "metadata": {},
     "output_type": "execute_result"
    }
   ],
   "source": [
    "features_x.isnull().values.any()\n",
    "#np.where(np.asanyarray(np.isnan(features_x)))[0]# checking for nan"
   ]
  },
  {
   "cell_type": "code",
   "execution_count": 101,
   "metadata": {
    "collapsed": true
   },
   "outputs": [],
   "source": [
    "from sklearn import preprocessing\n",
    "le = preprocessing.LabelEncoder()\n",
    "Y=le.fit_transform(features_y)"
   ]
  },
  {
   "cell_type": "code",
   "execution_count": 195,
   "metadata": {
    "collapsed": true
   },
   "outputs": [],
   "source": [
    "from sklearn.model_selection import train_test_split\n",
    "X_train, X_test,Y_train, Y_test = train_test_split(features_x,features_y, test_size=0.25, random_state=42)"
   ]
  },
  {
   "cell_type": "code",
   "execution_count": 196,
   "metadata": {
    "collapsed": true
   },
   "outputs": [],
   "source": [
    "from random import choices\n",
    "l=[]\n",
    "\n",
    "for i in range(0,len(X_train)):\n",
    "    l.append(i)\n",
    "t=(choices(l, k=len(X_train)))"
   ]
  },
  {
   "cell_type": "code",
   "execution_count": 197,
   "metadata": {
    "collapsed": true
   },
   "outputs": [],
   "source": [
    "n_samples=int(len(X_train.columns.values)*0.20)"
   ]
  },
  {
   "cell_type": "code",
   "execution_count": 198,
   "metadata": {
    "collapsed": true
   },
   "outputs": [],
   "source": [
    "import random\n",
    "from sklearn.tree import DecisionTreeClassifier\n",
    "list_choice =[]\n",
    "train_columns=[]\n",
    "ypred_train=[]\n",
    "ypred_test=[]\n",
    "for i in range(0,100):\n",
    "    list_choice.append(choices(l, k=len(X_train)))\n",
    "    train_columns.append(random.sample(set(X_train.columns.values), n_samples))\n",
    "\n",
    "    R_train = X_train[X_train.columns.intersection(train_columns[i])]\n",
    "    R_train = R_train.iloc[list_choice[i],]\n",
    "   \n",
    "    R_Y_train = Y_train.iloc[list_choice[i],]\n",
    "    R_test = X_test[X_test.columns.intersection(train_columns[i])]\n",
    "\n",
    "    DT=DecisionTreeClassifier(random_state=0)\n",
    "    DT.fit(R_train,R_Y_train)\n",
    "    ypred_train.append(DT.predict(R_train))\n",
    "    ypred_test.append(DT.predict(R_test))\n",
    "    \n",
    "    "
   ]
  },
  {
   "cell_type": "code",
   "execution_count": 199,
   "metadata": {
    "collapsed": true
   },
   "outputs": [],
   "source": [
    "import numpy as np\n",
    "for i in range(len(ypred_test)):\n",
    "    ypred_test[i] =le.transform( ypred_test[i].ravel())\n",
    "\n",
    "for i in range(len(ypred_train)):\n",
    "    ypred_train[i] =le.transform( ypred_train[i].ravel())    \n",
    "    \n",
    "\n",
    "# y_p_train =np.vstack(ypred_train)\n",
    "# y_p_test\n"
   ]
  },
  {
   "cell_type": "code",
   "execution_count": 200,
   "metadata": {},
   "outputs": [
    {
     "data": {
      "text/plain": [
       "array([[0, 0, 2, ..., 0, 0, 1],\n",
       "       [0, 2, 2, ..., 0, 0, 2],\n",
       "       [0, 0, 2, ..., 5, 1, 1],\n",
       "       ...,\n",
       "       [2, 0, 0, ..., 5, 2, 0],\n",
       "       [1, 0, 2, ..., 3, 0, 0],\n",
       "       [2, 2, 2, ..., 0, 0, 5]])"
      ]
     },
     "execution_count": 200,
     "metadata": {},
     "output_type": "execute_result"
    }
   ],
   "source": [
    "y_p_train =np.vstack(ypred_train)\n",
    "\n",
    "y_p_test =np.vstack(ypred_test)\n",
    "y_p_test"
   ]
  },
  {
   "cell_type": "code",
   "execution_count": 201,
   "metadata": {
    "collapsed": true
   },
   "outputs": [],
   "source": [
    "y_pred_train= mode(y_p_train)\n",
    "y_pred_train=(y_pred_train[0].tolist()[0])\n",
    "y_pred_test= mode(y_p_test)\n",
    "y_pred_test=(y_pred_test[0].tolist()[0])"
   ]
  },
  {
   "cell_type": "code",
   "execution_count": 202,
   "metadata": {},
   "outputs": [
    {
     "name": "stdout",
     "output_type": "stream",
     "text": [
      "Test Error: 28.186 %\n",
      "Test Accuracy: 71.814 %\n"
     ]
    }
   ],
   "source": [
    "test_error = (len(Y_test)-len([i for i, j in zip(y_pred_test, le.transform(Y_test.tolist())) if i == j]))/len(Y_test)\n",
    "print(\"Test Error:\",round(test_error*100,3),\"%\")\n",
    "print(\"Test Accuracy:\", round((1-test_error)*100,3),\"%\")"
   ]
  },
  {
   "cell_type": "code",
   "execution_count": null,
   "metadata": {},
   "outputs": [
    {
     "name": "stderr",
     "output_type": "stream",
     "text": [
      "/anaconda3/lib/python3.6/site-packages/scipy/stats/stats.py:253: RuntimeWarning: The input array could not be properly checked for nan values. nan values will be ignored.\n",
      "  \"values. nan values will be ignored.\", RuntimeWarning)\n"
     ]
    }
   ],
   "source": [
    "def cross_val(k,depth,D_train):\n",
    "    splits = int(len(X_train)/5)\n",
    "    list_df = [X_train[i:i+splits] for i in range(0,X_train.shape[0],splits)]\n",
    "    list_df_y = [Y_train[i:i+splits] for i in range(0,Y_train.shape[0],splits)]\n",
    "    list_choice =[]\n",
    "    train_columns=[]\n",
    "    ypred_train=[]\n",
    "    ypred_val=[]\n",
    "    splits = int(len(D_train)/5)\n",
    "    sum_errors=0\n",
    "    for j in range(0,len(list_df)-1):\n",
    "   \n",
    "        list_train = list_df[:j] + list_df[j+1:]\n",
    "        D_val_train = pd.concat(list_train)\n",
    "        D_val_train.reset_index(drop=True,inplace=True)\n",
    "        list_train_y = list_df_y[:j] + list_df_y[j+1:]\n",
    "        D_val_train_y = pd.concat(list_train_y)\n",
    "        D_val_train_y.reset_index(drop=True,inplace=True)\n",
    "        D_val = list_df[j]\n",
    "        Y_val = list_df_y[j]\n",
    "        l=[]\n",
    "        for z in range(0,len(D_val_train)):\n",
    "                l.append(z)\n",
    "        for i in range(0,100):\n",
    "        \n",
    "                list_choice.append(choices(l, k=len(D_val_train)))\n",
    "                train_columns.append(random.sample(set(D_val_train.columns.values), n_samples))\n",
    "               \n",
    "                R_train = D_val_train[D_val_train.columns.intersection(train_columns[i])]\n",
    "                R_train = R_train.iloc[list_choice[i],]\n",
    "\n",
    "                R_Y_train = D_val_train_y.iloc[list_choice[i],]\n",
    "                R_test = D_val[D_val.columns.intersection(train_columns[i])]\n",
    "\n",
    "                DT=DecisionTreeClassifier(random_state=0,max_depth = depth)\n",
    "                DT.fit(R_train,R_Y_train)\n",
    "                \n",
    "                ypred_val.append(DT.predict(R_test))\n",
    "        \n",
    "        y_p_val=np.vstack(ypred_val)\n",
    "        y_pred_val= mode(y_p_val)\n",
    "        y_pred_val=(y_pred_val[0].tolist()[0])\n",
    "        test_error = (len(D_val)-len([i for i, j in zip(y_pred_val, Y_val.tolist()) if i == j]))/len(Y_val)\n",
    "        sum_errors += test_error\n",
    "    \n",
    "    return sum_errors/k\n",
    "min_error = math.inf\n",
    "max_depth =2\n",
    "for depth in range(2,11):\n",
    "    \n",
    "    error =cross_val(5,depth,X_train)\n",
    "    if error < min_error:\n",
    "        min_error = error\n",
    "        max_depth = depth\n",
    "print(\"Best max depth:\",max_depth,\"Corresponding error:\",min_error)"
   ]
  },
  {
   "cell_type": "code",
   "execution_count": 208,
   "metadata": {},
   "outputs": [
    {
     "name": "stderr",
     "output_type": "stream",
     "text": [
      "/anaconda3/lib/python3.6/site-packages/sklearn/preprocessing/label.py:151: DeprecationWarning: The truth value of an empty array is ambiguous. Returning False, but in future this will result in an error. Use `array.size > 0` to check that an array is not empty.\n",
      "  if diff:\n",
      "/anaconda3/lib/python3.6/site-packages/sklearn/preprocessing/label.py:151: DeprecationWarning: The truth value of an empty array is ambiguous. Returning False, but in future this will result in an error. Use `array.size > 0` to check that an array is not empty.\n",
      "  if diff:\n"
     ]
    },
    {
     "data": {
      "image/png": "[encoded data removed]",
      "text/plain": [
       "<matplotlib.figure.Figure at 0x1a2ea0b5f8>"
      ]
     },
     "metadata": {},
     "output_type": "display_data"
    }
   ],
   "source": [
    "plt.figure(num=None, figsize=(8, 8))\n",
    "cm = confusion_matrix(le.transform(Y_test.tolist()),y_pred_test, labels=[0,1,2,3,4,5])\n",
    "df_cm = pd.DataFrame(cm, index=list(le.inverse_transform([0,1,2,3,4,5])), columns=list(le.inverse_transform([0,1,2,3,4,5])))\n",
    "ax = sns.heatmap(df_cm,annot = True, cmap=\"Spectral\", fmt=\"d\")\n",
    "ax.set_title('Heatmap of the confusion matrix of the actual labels vs the predicted labels\\n')\n",
    "plt.yticks(rotation=0) \n",
    "\n",
    "plt.show()"
   ]
  },
  {
   "cell_type": "code",
   "execution_count": 119,
   "metadata": {},
   "outputs": [
    {
     "name": "stdout",
     "output_type": "stream",
     "text": [
      "Lasso(alpha=0.1, copy_X=True, fit_intercept=True, max_iter=1000,\n",
      "   normalize=False, positive=False, precompute=False, random_state=0,\n",
      "   selection='cyclic', tol=0.0001, warm_start=False)\n"
     ]
    }
   ],
   "source": [
    "# # Subset/feature selection\n",
    "# from sklearn.linear_model import Lasso\n",
    "\n",
    "\n",
    "# alpha = 0.1\n",
    "# lasso = Lasso(alpha=alpha,random_state=0)\n",
    "\n",
    "# y_pred_lasso = lasso.fit(X_train, le.transform(Y_train)).predict(X_test)# predict on X_test ???\n",
    "\n",
    "# print(lasso)"
   ]
  },
  {
   "cell_type": "code",
   "execution_count": 120,
   "metadata": {},
   "outputs": [
    {
     "data": {
      "image/png": "[encoded data removed]",
      "text/plain": [
       "<matplotlib.figure.Figure at 0x11bd2a9b0>"
      ]
     },
     "metadata": {},
     "output_type": "display_data"
    }
   ],
   "source": [
    "# plt.plot(lasso.coef_, color='blue',\n",
    "#          label='Lasso coefficients')\n",
    "\n",
    "# plt.legend(loc='best')\n",
    "# plt.title('Plot of Lasso Co-efficients with all the features\\n')\n",
    "# plt.show()"
   ]
  },
  {
   "cell_type": "code",
   "execution_count": 121,
   "metadata": {},
   "outputs": [
    {
     "name": "stdout",
     "output_type": "stream",
     "text": [
      "(7, 'loudnesstrack')\n",
      "-0.014317596795775048\n",
      "(13, 'avg_timbre1')\n",
      "0.001667236031754011\n",
      "(14, 'avg_timbre2')\n",
      "0.0027197620477392333\n",
      "(15, 'avg_timbre3')\n",
      "-0.001979743227449755\n",
      "(16, 'avg_timbre4')\n",
      "-0.001553773204240096\n",
      "(17, 'avg_timbre5')\n",
      "-0.009927643134565982\n",
      "(18, 'avg_timbre6')\n",
      "-0.016861145291590288\n",
      "(19, 'avg_timbre7')\n",
      "-0.010378807831525791\n",
      "(20, 'avg_timbre8')\n",
      "0.00898776734632132\n",
      "(22, 'avg_timbre10')\n",
      "0.025924945872814856\n",
      "(23, 'avg_timbre11')\n",
      "-0.012093126098356404\n",
      "(25, 'var_timbre1')\n",
      "-0.006550490086586136\n",
      "Features: 12\n"
     ]
    }
   ],
   "source": [
    "# coefficient_list = list(lasso.coef_)\n",
    "# count = 0\n",
    "# selected_features =[]\n",
    "# for i in enumerate(features_x.columns):\n",
    "#      if abs(coefficient_list[i[0]])>0.001:#keeping threshold as 0.001 for selecting features\n",
    "#             count += 1\n",
    "#             selected_features.append(i[1])\n",
    "#             print(i)\n",
    "#             print(coefficient_list[i[0]])\n",
    "# print(\"Features:\",count)"
   ]
  },
  {
   "cell_type": "code",
   "execution_count": 129,
   "metadata": {
    "collapsed": true
   },
   "outputs": [],
   "source": [
    "# X_selected_df = features_x[selected_features]"
   ]
  },
  {
   "cell_type": "code",
   "execution_count": 130,
   "metadata": {
    "collapsed": true
   },
   "outputs": [],
   "source": [
    "#X_train_selected, X_test_selected,Y_train_selected, Y_test_selected = train_test_split(X_selected_df,features_y, test_size=0.25)"
   ]
  },
  {
   "cell_type": "code",
   "execution_count": 131,
   "metadata": {
    "collapsed": true
   },
   "outputs": [],
   "source": [
    "# from random import choices\n",
    "# l=[]\n",
    "\n",
    "# for i in range(0,len(X_train_selected)):\n",
    "#     l.append(i)\n",
    "# t=(choices(l, k=len(X_train_selected)))\n",
    "# n_samples=int(len(X_train_selected.columns.values)*0.20)"
   ]
  },
  {
   "cell_type": "code",
   "execution_count": 132,
   "metadata": {
    "collapsed": true
   },
   "outputs": [],
   "source": [
    "# import random\n",
    "# from sklearn.tree import DecisionTreeClassifier\n",
    "# list_choice =[]\n",
    "# train_columns=[]\n",
    "# ypred_train=[]\n",
    "# ypred_test=[]\n",
    "# for i in range(0,100):\n",
    "#     list_choice.append(choices(l, k=len(X_train_selected)))\n",
    "#     train_columns.append(random.sample(set(X_train_selected.columns.values), n_samples))\n",
    "\n",
    "#     R_train = X_train_selected[X_train_selected.columns.intersection(train_columns[i])]\n",
    "#     R_train = R_train.iloc[list_choice[i],]\n",
    "   \n",
    "#     R_Y_train = Y_train_selected.iloc[list_choice[i],]\n",
    "#     R_test = X_test_selected[X_test_selected.columns.intersection(train_columns[i])]\n",
    "\n",
    "#     DT=DecisionTreeClassifier(random_state=0)\n",
    "#     DT.fit(R_train,R_Y_train)\n",
    "#     ypred_train.append(DT.predict(R_train))\n",
    "#     ypred_test.append(DT.predict(R_test))\n",
    "    "
   ]
  },
  {
   "cell_type": "code",
   "execution_count": 133,
   "metadata": {
    "collapsed": true
   },
   "outputs": [],
   "source": [
    "# import numpy as np\n",
    "# for i in range(len(ypred_test)):\n",
    "#     ypred_test[i] =le.transform( ypred_test[i].ravel())\n",
    "\n",
    "# for i in range(len(ypred_train)):\n",
    "#     ypred_train[i] =le.transform( ypred_train[i].ravel())\n",
    "    \n",
    "# y_p_train =np.vstack(ypred_train)\n",
    "\n",
    "# y_p_test =np.vstack(ypred_test)\n",
    "# y_pred_train= mode(y_p_train)\n",
    "# y_pred_train=(y_pred_train[0].tolist()[0])\n",
    "# y_pred_test= mode(y_p_test)\n",
    "# y_pred_test=(y_pred_test[0].tolist()[0])"
   ]
  },
  {
   "cell_type": "code",
   "execution_count": 134,
   "metadata": {},
   "outputs": [
    {
     "name": "stdout",
     "output_type": "stream",
     "text": [
      "Test Error: 42.489 %\n",
      "Test Accuracy: 57.511 %\n"
     ]
    }
   ],
   "source": [
    "# test_error = (len(Y_test)-len([i for i, j in zip(y_pred_test, le.transform(Y_test_selected.tolist())) if i == j]))/len(Y_test)\n",
    "# print(\"Test Error:\",round(test_error*100,3),\"%\")\n",
    "# print(\"Test Accuracy:\", round((1-test_error)*100,3),\"%\")"
   ]
  },
  {
   "cell_type": "code",
   "execution_count": 171,
   "metadata": {},
   "outputs": [
    {
     "name": "stdout",
     "output_type": "stream",
     "text": [
      "Accuracy before grid search for selected features: 0.766416791604198\n"
     ]
    }
   ],
   "source": [
    "from sklearn.ensemble import RandomForestClassifier\n",
    "from sklearn import tree\n",
    "clf = RandomForestClassifier(n_estimators=100, random_state=0)\n",
    "clf.fit(X_train, Y_train)\n",
    "Y_pred=clf.predict(X_test)\n",
    "accuracy=clf.score(X_test,Y_test)\n",
    "print(\"Accuracy before grid search for selected features:\",accuracy)"
   ]
  },
  {
   "cell_type": "code",
   "execution_count": 160,
   "metadata": {},
   "outputs": [
    {
     "name": "stdout",
     "output_type": "stream",
     "text": [
      "acousticness 0.04793943834583142\n",
      "danceability 0.017827458436794605\n",
      "duration_ms 0.02179649478830245\n",
      "energy 0.02824094871663035\n",
      "instrumentalness 0.04023582800652758\n",
      "keytrack 0.008126632597990574\n",
      "liveness 0.014378420118341347\n",
      "loudnesstrack 0.024158672794939468\n",
      "modetrack 0.002201829336612212\n",
      "speechiness 0.018864106118633386\n",
      "tempotrack 0.013535961846947529\n",
      "time_signaturetrack 0.0024146921242390383\n",
      "valence 0.026113815216402464\n",
      "avg_timbre1 0.09341534459700304\n",
      "avg_timbre2 0.0645661672946634\n",
      "avg_timbre3 0.02107396633051213\n",
      "avg_timbre4 0.03169598533834255\n",
      "avg_timbre5 0.031414191024532245\n",
      "avg_timbre6 0.026853791286455552\n",
      "avg_timbre7 0.01954444591344816\n",
      "avg_timbre8 0.02128062545184864\n",
      "avg_timbre9 0.018087283080636837\n",
      "avg_timbre10 0.026261564701655346\n",
      "avg_timbre11 0.016927598047174502\n",
      "avg_timbre12 0.021655845261019702\n",
      "var_timbre1 0.04104958072828244\n",
      "var_timbre2 0.09145270592518288\n",
      "var_timbre3 0.021328853350615615\n",
      "var_timbre4 0.01919501028854104\n",
      "var_timbre5 0.02245513096486109\n",
      "var_timbre6 0.017319987969565825\n",
      "var_timbre7 0.022897308389078996\n",
      "var_timbre8 0.01672489694951263\n",
      "var_timbre9 0.016440130939644592\n",
      "var_timbre10 0.02481214531646051\n",
      "var_timbre11 0.020020072780776953\n",
      "var_timbre12 0.027693069621992764\n"
     ]
    }
   ],
   "source": [
    "for i in range(len(features_x.columns)):\n",
    "    print (features_x.columns[i],clf.feature_importances_[i])"
   ]
  },
  {
   "cell_type": "code",
   "execution_count": 189,
   "metadata": {},
   "outputs": [
    {
     "data": {
      "image/png": "[encoded data removed]",
      "text/plain": [
       "<matplotlib.figure.Figure at 0x11ad60c50>"
      ]
     },
     "metadata": {},
     "output_type": "display_data"
    }
   ],
   "source": [
    "importance_f = clf.feature_importances_\n",
    "indices = np.argsort(importance_f)[::-1]\n",
    "\n",
    "plt.figure(figsize=(10,8))\n",
    "plt.bar(range(X_train.shape[1]), importance_f[indices],\n",
    "    color=\"g\", \n",
    "    align=\"center\")\n",
    "feature_names = features_x.columns \n",
    "plt.xticks(range(X_train.shape[1]), feature_names,rotation=90)\n",
    "\n",
    "plt.ylabel(\"importance\")\n",
    "plt.xlabel(\"feature name\")\n",
    "plt.show()"
   ]
  },
  {
   "cell_type": "code",
   "execution_count": null,
   "metadata": {
    "collapsed": true
   },
   "outputs": [],
   "source": []
  }
 ],
 "metadata": {
  "kernelspec": {
   "display_name": "Python 3",
   "language": "python",
   "name": "python3"
  },
  "language_info": {
   "codemirror_mode": {
    "name": "ipython",
    "version": 3
   },
   "file_extension": ".py",
   "mimetype": "text/x-python",
   "name": "python",
   "nbconvert_exporter": "python",
   "pygments_lexer": "ipython3",
   "version": "3.6.3"
  }
 },
 "nbformat": 4,
 "nbformat_minor": 2
}
